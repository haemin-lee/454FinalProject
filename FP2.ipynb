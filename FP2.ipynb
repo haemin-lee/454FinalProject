{
 "cells": [
  {
   "cell_type": "markdown",
   "metadata": {},
   "source": [
    "# Summary of Results and Algorithm:\n"
   ]
  },
  {
   "cell_type": "markdown",
   "metadata": {
    "id": "MD4prbKafL7C"
   },
   "source": [
    "## Read input"
   ]
  },
  {
   "cell_type": "code",
   "execution_count": 56,
   "metadata": {
    "executionInfo": {
     "elapsed": 3600,
     "status": "ok",
     "timestamp": 1631894877782,
     "user": {
      "displayName": "Mingxi Cheng",
      "photoUrl": "https://lh3.googleusercontent.com/a/default-user=s64",
      "userId": "11732313048760842335"
     },
     "user_tz": 420
    },
    "id": "DSMHGWqKRqQ-"
   },
   "outputs": [],
   "source": [
    "# Imports\n",
    "import pandas as pd\n",
    "import numpy as np\n",
    "# Read data into dataframe\n",
    "df = pd.read_csv('./google-cluster-data-1.csv',sep=' ')"
   ]
  },
  {
   "cell_type": "code",
   "execution_count": 57,
   "metadata": {
    "colab": {
     "base_uri": "https://localhost:8080/",
     "height": 419
    },
    "executionInfo": {
     "elapsed": 272,
     "status": "ok",
     "timestamp": 1631894925218,
     "user": {
      "displayName": "Mingxi Cheng",
      "photoUrl": "https://lh3.googleusercontent.com/a/default-user=s64",
      "userId": "11732313048760842335"
     },
     "user_tz": 420
    },
    "id": "oNW697KISI7P",
    "outputId": "65aee2ee-d06b-416e-c42b-639907acffed"
   },
   "outputs": [
    {
     "name": "stdout",
     "output_type": "stream",
     "text": [
      "length of df:  3535029\n"
     ]
    }
   ],
   "source": [
    "# Print the length of the df\n",
    "print(\"length of df: \", len(df))"
   ]
  },
  {
   "cell_type": "markdown",
   "metadata": {
    "id": "u8NxBrTVfN4H"
   },
   "source": [
    "Get CPU and MEM information"
   ]
  },
  {
   "cell_type": "code",
   "execution_count": 58,
   "metadata": {
    "colab": {
     "base_uri": "https://localhost:8080/"
    },
    "executionInfo": {
     "elapsed": 131,
     "status": "ok",
     "timestamp": 1631895007749,
     "user": {
      "displayName": "Mingxi Cheng",
      "photoUrl": "https://lh3.googleusercontent.com/a/default-user=s64",
      "userId": "11732313048760842335"
     },
     "user_tz": 420
    },
    "id": "R1K0nIhLSK3w",
    "outputId": "741b0f53-f684-4b86-b2b1-720683fb96db"
   },
   "outputs": [
    {
     "data": {
      "text/plain": [
       "array([0.      , 0.      , 0.021875, ..., 0.      , 0.      , 0.      ])"
      ]
     },
     "execution_count": 58,
     "metadata": {},
     "output_type": "execute_result"
    }
   ],
   "source": [
    "# Show amount of CPU for each task\n",
    "df['NrmlTaskCores'].values"
   ]
  },
  {
   "cell_type": "code",
   "execution_count": 59,
   "metadata": {
    "id": "2LtzET0dSkAg"
   },
   "outputs": [],
   "source": [
    "# Save CPU amount, memory requirements, and task IDs\n",
    "cpus = df['NrmlTaskCores'].values\n",
    "mems = df['NrmlTaskMem'].values\n",
    "task_ids = df['TaskID'].values"
   ]
  },
  {
   "cell_type": "code",
   "execution_count": 60,
   "metadata": {},
   "outputs": [],
   "source": [
    "# Calculate and save execution times for two cases: mod 2 and mod 10\n",
    "temp1 = df['TaskID'].values\n",
    "ExecutionTime1 = []\n",
    "for i in temp1:\n",
    "    burstTime = (i%2+1)*300\n",
    "    ExecutionTime1.append(burstTime)\n",
    "    "
   ]
  },
  {
   "cell_type": "code",
   "execution_count": 61,
   "metadata": {},
   "outputs": [
    {
     "name": "stdout",
     "output_type": "stream",
     "text": [
      "Total Subtasks for setting 1: 5298274\n"
     ]
    }
   ],
   "source": [
    "# Calculate and print total # of subtasks for two cases: mod 2 and mod 10\n",
    "totalSubtask1 = 0\n",
    "for i in ExecutionTime1:\n",
    "    totalSubtask1 += i/300\n",
    "print(\"Total Subtasks for setting 1:\", int(totalSubtask1))\n"
   ]
  },
  {
   "cell_type": "code",
   "execution_count": 62,
   "metadata": {},
   "outputs": [],
   "source": [
    "# Save calculated execution times to columns in the dataframe\n",
    "df['executionTime1'] = ExecutionTime1"
   ]
  },
  {
   "cell_type": "code",
   "execution_count": 63,
   "metadata": {},
   "outputs": [
    {
     "data": {
      "text/html": [
       "<div>\n",
       "<style scoped>\n",
       "    .dataframe tbody tr th:only-of-type {\n",
       "        vertical-align: middle;\n",
       "    }\n",
       "\n",
       "    .dataframe tbody tr th {\n",
       "        vertical-align: top;\n",
       "    }\n",
       "\n",
       "    .dataframe thead th {\n",
       "        text-align: right;\n",
       "    }\n",
       "</style>\n",
       "<table border=\"1\" class=\"dataframe\">\n",
       "  <thead>\n",
       "    <tr style=\"text-align: right;\">\n",
       "      <th></th>\n",
       "      <th>Time</th>\n",
       "      <th>ParentID</th>\n",
       "      <th>TaskID</th>\n",
       "      <th>JobType</th>\n",
       "      <th>NrmlTaskCores</th>\n",
       "      <th>NrmlTaskMem</th>\n",
       "      <th>Unnamed: 6</th>\n",
       "      <th>executionTime1</th>\n",
       "    </tr>\n",
       "  </thead>\n",
       "  <tbody>\n",
       "    <tr>\n",
       "      <th>0</th>\n",
       "      <td>90000</td>\n",
       "      <td>757745334</td>\n",
       "      <td>1488529826</td>\n",
       "      <td>0</td>\n",
       "      <td>0.000000</td>\n",
       "      <td>0.031130</td>\n",
       "      <td>NaN</td>\n",
       "      <td>300</td>\n",
       "    </tr>\n",
       "    <tr>\n",
       "      <th>1</th>\n",
       "      <td>90000</td>\n",
       "      <td>975992247</td>\n",
       "      <td>1488529821</td>\n",
       "      <td>0</td>\n",
       "      <td>0.000000</td>\n",
       "      <td>0.000000</td>\n",
       "      <td>NaN</td>\n",
       "      <td>600</td>\n",
       "    </tr>\n",
       "    <tr>\n",
       "      <th>2</th>\n",
       "      <td>90000</td>\n",
       "      <td>1468458091</td>\n",
       "      <td>1488529832</td>\n",
       "      <td>1</td>\n",
       "      <td>0.021875</td>\n",
       "      <td>0.002353</td>\n",
       "      <td>NaN</td>\n",
       "      <td>300</td>\n",
       "    </tr>\n",
       "    <tr>\n",
       "      <th>3</th>\n",
       "      <td>90000</td>\n",
       "      <td>1460281235</td>\n",
       "      <td>1488529840</td>\n",
       "      <td>0</td>\n",
       "      <td>0.000000</td>\n",
       "      <td>0.000000</td>\n",
       "      <td>NaN</td>\n",
       "      <td>300</td>\n",
       "    </tr>\n",
       "    <tr>\n",
       "      <th>4</th>\n",
       "      <td>90000</td>\n",
       "      <td>1164728954</td>\n",
       "      <td>1488529835</td>\n",
       "      <td>0</td>\n",
       "      <td>0.003125</td>\n",
       "      <td>0.001638</td>\n",
       "      <td>NaN</td>\n",
       "      <td>600</td>\n",
       "    </tr>\n",
       "  </tbody>\n",
       "</table>\n",
       "</div>"
      ],
      "text/plain": [
       "    Time    ParentID      TaskID  JobType  NrmlTaskCores  NrmlTaskMem  \\\n",
       "0  90000   757745334  1488529826        0       0.000000     0.031130   \n",
       "1  90000   975992247  1488529821        0       0.000000     0.000000   \n",
       "2  90000  1468458091  1488529832        1       0.021875     0.002353   \n",
       "3  90000  1460281235  1488529840        0       0.000000     0.000000   \n",
       "4  90000  1164728954  1488529835        0       0.003125     0.001638   \n",
       "\n",
       "   Unnamed: 6  executionTime1  \n",
       "0         NaN             300  \n",
       "1         NaN             600  \n",
       "2         NaN             300  \n",
       "3         NaN             300  \n",
       "4         NaN             600  "
      ]
     },
     "execution_count": 63,
     "metadata": {},
     "output_type": "execute_result"
    }
   ],
   "source": [
    "# Show dataframe\n",
    "df.head()"
   ]
  },
  {
   "cell_type": "markdown",
   "metadata": {},
   "source": [
    "### Setting 1"
   ]
  },
  {
   "cell_type": "code",
   "execution_count": 16,
   "metadata": {},
   "outputs": [],
   "source": [
    "# Calculates energy consumption for one vm\n",
    "def getEnergyConsumption(VMCPUUsage, totalCPUCount, threshold):\n",
    "    \n",
    "    #here we want to calculate the cpu usage rate per individual VM so i look at the individual\n",
    "    #cpu usage rate and divide it over 7/100 or 25/100\n",
    "    cpuUsageRate = (totalCPUCount- VMCPUUsage)/(totalCPUCount)\n",
    "    \n",
    "    # Based on the equations provided\n",
    "    static = 0\n",
    "    if cpuUsageRate > 0:\n",
    "        static = 5 \n",
    "    else:\n",
    "        static = 0\n",
    "        \n",
    "    dynamic = 0\n",
    "    if cpuUsageRate < threshold:\n",
    "        dynamic = cpuUsageRate*100\n",
    "    else:\n",
    "        dynamic = threshold * 100 + (((cpuUsageRate - threshold)**2) * 200)\n",
    "\n",
    "    return static + dynamic"
   ]
  },
  {
   "cell_type": "code",
   "execution_count": 17,
   "metadata": {},
   "outputs": [],
   "source": [
    "# Calculates cost for one vm by mapping possible time values to cost\n",
    "def getCost(time, power):\n",
    "    costChart = [0.5, 0.5, 0.6, 0.6, 0.6, 0.7, 0.7, 0.6, 0.6, 0.8, 0.8, 0.8, 0.8]\n",
    "    mapping = [90000,91875,93750,95625,97500,99375,101250,103125,105000,106875,108750,110625]\n",
    "    cost = 0\n",
    "    for i in range(12):\n",
    "        if time == mapping[i]:\n",
    "            cost = costChart[i]\n",
    "            break\n",
    "        elif time < mapping[i]:\n",
    "            cost = costChart[i-1]\n",
    "        elif time > mapping[11]:\n",
    "            cost = costChart[11]\n",
    "    return cost*power\n",
    "    "
   ]
  },
  {
   "cell_type": "code",
   "execution_count": 64,
   "metadata": {
    "id": "DYaYmjB5TSYp"
   },
   "outputs": [],
   "source": [
    "# Schedule all tasks in a way that minimizes the power consumption\n",
    "def GreedyPower(input_data, nextQueue, threshhold, executionTime, cpuTotal, memTotal, final):\n",
    "    length = len(input_data)\n",
    "    nextQueue = []\n",
    "    rejected =[]\n",
    "    VMs = [[cpuTotal, memTotal] for i in range(100)]\n",
    "    energyUsage = 0\n",
    "    totalPower = 0\n",
    "    totalCost = 0\n",
    "    totalTurnaroundTime = 0\n",
    "    \n",
    "    # Iterates through the tasks\n",
    "    for index, row in input_data.iterrows():\n",
    "        cpu, mem = row['NrmlTaskCores'], row['NrmlTaskMem']\n",
    "        task_id = row['TaskID']\n",
    "        found_VM = False\n",
    "        # Arbitrarely high value to compare the first energy value to \n",
    "        lowestPower = 234567898765\n",
    "        lowestPowerIndex = -1\n",
    "        VM_id = 0\n",
    "        \n",
    "        # Iterate through all of the vms\n",
    "        for j in range(100):\n",
    "            VM_id = j\n",
    "            # Check whether this is even schedulable\n",
    "            if VMs[VM_id][0] >= cpu and VMs[VM_id][1] >= mem:\n",
    "                energy = getEnergyConsumption(VMs[VM_id][0], cpuTotal, threshhold)\n",
    "                if energy < lowestPower:\n",
    "                    lowestPower = energy\n",
    "                    lowestPowerIndex = VM_id\n",
    "                    \n",
    "        # Is schedulable \n",
    "        if lowestPowerIndex != -1:\n",
    "            cpu = row['NrmlTaskCores']\n",
    "            mem = row['NrmlTaskMem']\n",
    "            \n",
    "            # Adjust the corresponding cpu and memory values for the VMs based on the allocated task\n",
    "            VMs[lowestPowerIndex][0] = VMs[lowestPowerIndex][0] - cpu\n",
    "            VMs[lowestPowerIndex][1] = VMs[lowestPowerIndex][1] - mem\n",
    "            \n",
    "            # Because we scheduled the task, update power, cost, and time\n",
    "            totalPower += lowestPower\n",
    "            totalCost += getCost(row['Time'], lowestPower)\n",
    "            totalTurnaroundTime += row[executionTime]\n",
    "            \n",
    "        # If the task is rejected\n",
    "        else:\n",
    "            rejected.append(row['TaskID'])\n",
    "            # Hard rejection of task by reducing the rest of the time for the subtasks to 0\n",
    "            row[executionTime] = 0\n",
    "                \n",
    "        # Adjust remaining execution time for the overall task and append rest to nextQueue\n",
    "        if row[executionTime] > 300:\n",
    "            row[executionTime] -= 300\n",
    "            nextQueue.append(row)\n",
    "            \n",
    "    if final == True:\n",
    "        print(VMs)\n",
    "    return rejected, nextQueue, totalPower, totalCost, totalTurnaroundTime"
   ]
  },
  {
   "cell_type": "code",
   "execution_count": 65,
   "metadata": {},
   "outputs": [],
   "source": [
    "def GreedyCost(input_data, nextQueue, threshhold, executionTime,cpuTotal, memTotal, final):\n",
    "    length = len(input_data)\n",
    "    nextQueue = []\n",
    "    VMs = [[cpuTotal, memTotal] for i in range(100)]\n",
    "    cost = 0\n",
    "    rejected =[]\n",
    "    totalPower = 0\n",
    "    totalCost = 0\n",
    "    totalTurnaroundTime = 0\n",
    "    \n",
    "    for index, row in input_data.iterrows():\n",
    "        cpu, mem = row['NrmlTaskCores'], row['NrmlTaskMem']\n",
    "        task_id = row['TaskID']\n",
    "        found_VM = False\n",
    "        lowestCost = float('inf')\n",
    "        lowestCostIndex = -1\n",
    "        VM_id = 0\n",
    "        \n",
    "        #iterate through all of the vms\n",
    "        for j in range(100):\n",
    "            VM_id = j\n",
    "            #check whether this is even schedulable\n",
    "            if VMs[VM_id][0] >= cpu and VMs[VM_id][1] >= mem:\n",
    "                energy = getEnergyConsumption(VMs[VM_id][0], cpuTotal, threshhold)\n",
    "                cost = getCost(row['Time'], energy)\n",
    "                if cost < lowestCost:\n",
    "                    lowestCost = cost\n",
    "                    lowestCostIndex = VM_id\n",
    "                    \n",
    "        #is schedulable\n",
    "        if lowestCostIndex != -1:\n",
    "            cpu = row['NrmlTaskCores']\n",
    "            mem = row['NrmlTaskMem']\n",
    "            \n",
    "            VMs[lowestCostIndex][0] = VMs[lowestCostIndex][0] - cpu\n",
    "            VMs[lowestCostIndex][1] = VMs[lowestCostIndex][1] - mem\n",
    "            \n",
    "            # Because we scheduled the task, update power, cost, and time\n",
    "            totalPower += getEnergyConsumption(VMs[VM_id][0], cpuTotal, threshhold)\n",
    "            totalCost += lowestCost\n",
    "            totalTurnaroundTime += row[executionTime]\n",
    "        else:\n",
    "            rejected.append(row['TaskID'])\n",
    "            # Hard rejection of task by reducing the rest of the time for the subtasks to 0\n",
    "            row[executionTime] = 0\n",
    "                \n",
    "        if row[executionTime] > 300:\n",
    "            row[executionTime] -= 300\n",
    "            nextQueue.append(row)\n",
    "            \n",
    "    if final == True:\n",
    "        print(VMs)\n",
    "            \n",
    "    return rejected, nextQueue, totalPower, totalCost, totalTurnaroundTime"
   ]
  },
  {
   "cell_type": "code",
   "execution_count": 66,
   "metadata": {},
   "outputs": [],
   "source": [
    "# Schedule all tasks in a way that minimizes the turnover time\n",
    "def GreedyTurnaroundTime(input_data, nextQueue, threshhold, executionTime,cpuTotal, memTotal,final):\n",
    "    length = len(input_data)\n",
    "    nextQueue = []\n",
    "    VMs = [[cpuTotal, memTotal] for i in range(100)]\n",
    "    energyUsage = 0\n",
    "    rejected=[]\n",
    "    totalPower = 0\n",
    "    totalCost = 0\n",
    "    totalTurnaroundTime = 0\n",
    "    \n",
    "    for index, row in input_data.iterrows():\n",
    "        cpu, mem = row['NrmlTaskCores'], row['NrmlTaskMem']\n",
    "        task_id = row['TaskID']\n",
    "        found_VM = False\n",
    "        index = -1\n",
    "        VM_id = 0\n",
    "        \n",
    "        #iterate through all of the vms\n",
    "        for j in range(100):\n",
    "            VM_id = j\n",
    "            #check whether this is even schedulable\n",
    "            if VMs[VM_id][0] >= cpu and VMs[VM_id][1] >= mem:\n",
    "                index = VM_id\n",
    "                break\n",
    "                    \n",
    "        # Is schedulable \n",
    "        if index != -1:\n",
    "            cpu = row['NrmlTaskCores']\n",
    "            mem = row['NrmlTaskMem']\n",
    "            \n",
    "            VMs[index][0] = VMs[index][0] - cpu\n",
    "            VMs[index][1] = VMs[index][1] - mem\n",
    "            \n",
    "            # Because we scheduled the task, update power, cost, and time\n",
    "            power = getEnergyConsumption(VMs[index][0], cpuTotal, threshhold)\n",
    "            totalPower += power\n",
    "            totalCost += getCost(row['Time'], power)\n",
    "            totalTurnaroundTime += row[executionTime]\n",
    "        else:\n",
    "            rejected.append(row['TaskID'])\n",
    "            # Hard rejection of task by reducing the rest of the time for the subtasks to 0\n",
    "            row[executionTime] = 0\n",
    "                \n",
    "        if row[executionTime] > 300:\n",
    "            row[executionTime] -= 300\n",
    "            nextQueue.append(row)\n",
    "        \n",
    "    if final == True:\n",
    "        print(VMs)\n",
    "            \n",
    "    return rejected, nextQueue, totalPower, totalCost, totalTurnaroundTime"
   ]
  },
  {
   "cell_type": "code",
   "execution_count": 44,
   "metadata": {},
   "outputs": [],
   "source": [
    "def RR(input_data, nextQueue, threshhold, executionTime,cpuTotal, memTotal, final):\n",
    "    rejected = []\n",
    "    \n",
    "    length = len(input_data)\n",
    "    nextQueue = []\n",
    "    VMs = [[cpuTotal, memTotal] for i in range(100)]\n",
    "    energyUsage = 0\n",
    "    totalPower = 0\n",
    "    totalCost = 0\n",
    "    totalTurnaroundTime = 0\n",
    "    \n",
    "    # Iterate through all of the tasks\n",
    "    \n",
    "    for index, row in input_data.iterrows():\n",
    "        cpu, mem = row['NrmlTaskCores'], row['NrmlTaskMem']\n",
    "        task_id = row['TaskID']\n",
    "        VM_id = 0\n",
    "        for j in range(100):\n",
    "            # find the available cpu and mem units based on VM_id\n",
    "            cpu_vm = VMs[VM_id][0]\n",
    "            mem_vm = VMs[VM_id][1] \n",
    "            # If a given VM has space, then remove the CPU and MEM units for the given task and go to the next task\n",
    "            if cpu_vm >= cpu and mem_vm >= mem:\n",
    "                # We can put task_id[i] into VM[VM_id]\n",
    "                # update VM resource availability. \n",
    "                VMs[VM_id][0] = cpu_vm - cpu\n",
    "                VMs[VM_id][1] = mem_vm - mem\n",
    "                # Increase the VM_id so that the next VM can be checked\n",
    "                VM_id = VM_id + 1\n",
    "                # Reset VM_id back to 0 if it hits 100\n",
    "                if VM_id == 100:\n",
    "                    VM_id = 0\n",
    "                # Because we scheduled the task, update power, cost, and time\n",
    "                power = getEnergyConsumption(VMs[VM_id][0], cpuTotal, threshhold)\n",
    "                totalPower += power\n",
    "                totalCost += getCost(row['Time'], power)\n",
    "                totalTurnaroundTime += row[executionTime]\n",
    "                # Skip to the next task since this one has been allocated\n",
    "                break\n",
    "            # If on the last VM and the task still hasn't been alloted to a VM, then put the task id in rejected\n",
    "            elif j == 99:\n",
    "                rejected.append(row['TaskID'])\n",
    "                # Hard rejection of task by reducing the rest of the time for the subtasks to 0\n",
    "                row[executionTime] = 0\n",
    "            # Increase the VM_id so that the next VM can be checked\n",
    "            VM_id = VM_id + 1\n",
    "            # Reset VM_id back to 0 if it hits 100\n",
    "            if VM_id == 100:\n",
    "                VM_id = 0\n",
    "                \n",
    "        if row[executionTime] > 300:\n",
    "            row[executionTime] -= 300\n",
    "            nextQueue.append(row)\n",
    "            \n",
    "    if final == True:\n",
    "        print(VMs)\n",
    "\n",
    "\n",
    "    # If none of the tasks were rejected, print 0\n",
    "    if len(rejected) == 0:\n",
    "        print('0')\n",
    "        \n",
    "    return rejected, nextQueue, totalPower, totalCost, totalTurnaroundTime"
   ]
  },
  {
   "cell_type": "markdown",
   "metadata": {},
   "source": [
    "### Round Robin"
   ]
  },
  {
   "cell_type": "code",
   "execution_count": 45,
   "metadata": {},
   "outputs": [
    {
     "name": "stdout",
     "output_type": "stream",
     "text": [
      "0\n",
      "[[5.0, 2.801295029606409e-06], [5.0, 1.0201999895812415e-06], [5.0, 6.998599993518722e-06], [3.100000000000052, 5.054599988714405e-06], [1.7562500000000056, 1.55169999642088e-06], [3.206249999999998, 8.602700000109557e-06], [1.2781249999999995, 1.3180999716001069e-06], [0.0031249999999977563, 1.044169999859974e-05], [1.2616990785474513e-13, 1.8316000014320026e-05], [0.003124999999952348, 9.0680999992215e-05], [3.660873687527655e-14, 5.8542413679999905], [0.0031249999999479923, 8.672536419999993], [0.0031249999999996446, 9.33442469800001], [1.6374054889745082e-14, 9.18602754999999], [1.0656406312925526e-14, 9.33000007000001], [7.19303089313783e-15, 9.400869550000005], [0.003124999999996979, 9.492575689999995], [6.218983661376853e-16, 9.149561630000003], [1.2487406941819046e-14, 9.384226400000008], [7.059717394009013e-14, 1.9015207859999972], [1.7180701306074297e-14, 2.9400782480000003], [3.6637359812630166e-15, 5.589046468000005], [1.0816000872715392e-15, 6.6402285309999955], [0.003124999999944222, 8.869670800000009], [3.939557013943329e-15, 9.197350389999984], [2.558370182370595e-14, 9.262564580000012], [4.556251209653084e-15, 9.337860779999996], [2.5309615514501616e-14, 9.46003436], [0.003124999999996935, 9.390345300000003], [0.0031249999999833737, 9.430537499999996], [6.5824082295939945e-15, 3.6613748749999995], [4.4812500000000295, 4.208400000224152e-05], [4.406250000000032, 0.0003509579999964096], [4.050000000000053, 0.00015979000000317274], [3.6625000000000116, 0.00020214999999719068], [3.946874999999962, 0.0003289840000000505], [2.799999999999969, 0.000270950000001923], [1.6125000000000125, 0.00019076800000622854], [1.824929096727601e-14, 0.3709113200000004], [0.6812500000000069, 0.0004034800000036797], [1.728125000000004, 0.0002155230000015945], [1.6656250000000021, 0.0001680899999968585], [0.75, 0.0005467899999956222], [2.8718750000000024, 0.0002112900000014752], [2.0749999999999886, 0.00019100000000418262], [1.4093750000000063, 0.0001942999999964088], [0.6218750000000121, 0.00040684199999470154], [1.790234627208065e-15, 1.3784973999999994], [0.0156250000000007, 9.800000000307132e-05], [0.0031249999999991215, 1.0138270000000027], [8.144526719711109e-16, 2.112354599999997], [0.6781249999999986, 0.11921762400000614], [5, 10], [5, 10], [5, 10], [5, 10], [5, 10], [5, 10], [5, 10], [5, 10], [5, 10], [5, 10], [5, 10], [5, 10], [5, 10], [5, 10], [5, 10], [5, 10], [5, 10], [5, 10], [5, 10], [5, 10], [5, 10], [5, 10], [5, 10], [5, 10], [5, 10], [5, 10], [5, 10], [5, 10], [5, 10], [5, 10], [5, 10], [5, 10], [5, 10], [5, 10], [5, 10], [5, 10], [5, 10], [5, 10], [5, 10], [5, 10], [5, 10], [5, 10], [5, 10], [5, 10], [5, 10], [5, 10], [5, 10], [5, 10]]\n",
      "0\n",
      "Total Power:  274748.84242188034\n",
      "Total Cost:  219799.07393750045\n",
      "Total Turnaround Time:  8982000.0\n"
     ]
    }
   ],
   "source": [
    "# Run RR for CPU = 7, Mem = 11\n",
    "VMs = [[7, 11] for i in range(100)]\n",
    "setty = set(df['Time'].values)\n",
    "setty = sorted(setty)\n",
    "rejected = []\n",
    "nextQueue = []\n",
    "#print(len(setty))\n",
    "totalPower = 0\n",
    "totalCost = 0\n",
    "totalTurnaroundTime = 0\n",
    "\n",
    "for i in setty:\n",
    "    taskQueue = df.loc[df['Time'] == i]\n",
    "    taskQueue = taskQueue.append(nextQueue)\n",
    "    final = False\n",
    "    if i == 112500:\n",
    "        final = True\n",
    "    returnObj = RR(taskQueue, nextQueue, 0.5, 'executionTime1', 5, 10, final)\n",
    "    rejected += returnObj[0]\n",
    "    nextQueue = returnObj[1]\n",
    "    totalPower = returnObj[2]\n",
    "    #print(totalPower)\n",
    "    totalCost = returnObj[3]\n",
    "    totalTurnaroundTime = returnObj[4]\n",
    "\n",
    "if len(rejected) > 0:\n",
    "    np.save(\"taskReject_2_RR\", rejected)\n",
    "#np.save(\"VMs_1_iv\", VMs)\n",
    "print(\"Total Power: \", totalPower)\n",
    "print(\"Total Cost: \", totalCost)\n",
    "print(\"Total Turnaround Time: \", totalTurnaroundTime)"
   ]
  },
  {
   "cell_type": "markdown",
   "metadata": {},
   "source": [
    "### Greedy Algorithms"
   ]
  },
  {
   "cell_type": "code",
   "execution_count": 68,
   "metadata": {
    "scrolled": true
   },
   "outputs": [
    {
     "name": "stdout",
     "output_type": "stream",
     "text": [
      "[[5.0, 2.801295029606409e-06], [5.0, 1.0201999895812415e-06], [5.0, 6.998599993518722e-06], [2.7531250000000074, 1.2850313359999943], [2.765625000000008, 6.535397170000009], [2.765625000000008, 5.34378188200001], [2.765625000000007, 6.210028758000003], [2.7656250000000075, 6.561210094000007], [2.7625000000000073, 6.576865653999988], [2.7687500000000034, 6.871859618], [2.7687500000000047, 6.818682015999985], [2.765625000000007, 6.554561722000005], [2.768750000000006, 5.694814981999992], [2.7656250000000067, 6.671803149999999], [2.7656250000000075, 6.449514898000001], [2.759375000000004, 6.879104906000003], [2.7656250000000075, 6.558806590000008], [2.7593750000000044, 7.13629773599999], [2.7656250000000075, 6.171160337999996], [2.7406250000000063, 5.4223609308999725], [2.7562500000000063, 6.189715998000009], [2.7687500000000065, 6.566640771500006], [2.762500000000005, 7.033847376000001], [2.762500000000006, 6.958763695999997], [2.765625000000007, 7.118573442999999], [2.7687500000000065, 6.689786336000003], [2.7593750000000044, 7.079797970000005], [2.768750000000004, 7.132073286000002], [2.7562500000000028, 7.034535308000009], [2.7562500000000063, 7.057109314000011], [2.7656250000000075, 6.8274689920000045], [2.765625000000006, 6.737762540000007], [3.6625000000000076, 3.2300600018658015e-05], [2.7656250000000075, 6.530910791000005], [2.7562500000000063, 6.779768390000004], [2.7437500000000044, 7.641907439000002], [2.768750000000003, 6.822426438000004], [2.768750000000005, 6.623940543999996], [2.7687500000000034, 6.616989257000009], [2.7687500000000043, 6.797856055999993], [2.7593750000000026, 6.589694415999994], [2.7687500000000043, 6.678873406000019], [2.768750000000007, 6.505553394], [2.768750000000005, 6.997354631999994], [2.768750000000005, 6.9853061979999955], [2.7625000000000046, 7.046963355999996], [2.7687500000000043, 5.326307379999993], [2.768750000000002, 6.773033554999983], [2.743750000000004, 6.667305865999999], [2.759375000000004, 6.724341004000006], [2.756250000000002, 6.324167402000004], [2.7687500000000043, 6.909964500000006], [2.7687500000000025, 6.775838618000001], [2.750000000000004, 6.407296743999996], [2.765625000000002, 7.240588881999988], [2.7625000000000046, 6.146870833999998], [2.768750000000002, 6.817434716999993], [2.768750000000005, 5.436530666000015], [2.7437500000000017, 6.047160202999983], [2.768750000000002, 5.829651406999996], [2.7687500000000043, 6.820022980000008], [2.7562500000000014, 6.590193557000019], [2.7625000000000046, 7.134477551999986], [2.7500000000000027, 7.349587565999999], [2.762500000000004, 6.996862549999997], [2.7562500000000063, 6.334614598000004], [2.768750000000005, 6.833736052000005], [2.768750000000006, 7.045175861999995], [2.7625000000000046, 6.124594336599987], [2.7593750000000052, 6.527279429999989], [2.7562500000000028, 7.343197010000005], [2.7687500000000016, 7.056933895999995], [2.753125000000005, 6.3555945410000145], [2.768750000000005, 5.286681788000009], [2.7593750000000044, 6.814199964999996], [2.7656250000000053, 6.848656187999998], [2.7687500000000043, 6.947116619999993], [2.7562500000000023, 6.789885584], [2.7656250000000058, 6.3981025500000035], [2.768750000000003, 6.368758023999993], [2.7687500000000043, 6.914862434000007], [2.759375000000004, 7.0767423411999975], [2.7625000000000046, 6.754275201999993], [2.7687500000000016, 6.9728233820000085], [2.7656250000000036, 7.145220817999991], [2.768750000000004, 5.705662463999997], [2.7687500000000056, 6.596522294000002], [2.7687500000000065, 6.569187791999997], [2.743750000000004, 7.037217444000006], [2.759375000000005, 6.928538352000014], [2.756250000000003, 5.760374166999981], [2.7687500000000043, 7.419388074], [2.7687500000000025, 7.641991780999995], [2.765625000000006, 6.5699380189999905], [2.7562500000000036, 6.891250872000002], [2.7656250000000053, 7.0834447639999985], [2.7656250000000044, 6.985405833999993], [2.7656250000000053, 6.994953700000003], [2.759375000000005, 7.048771628000001], [2.7531250000000034, 6.884443472000002]]\n",
      "Total Power:  392078.625\n",
      "Total Cost:  313662.89999999787\n",
      "Total Turnaround Time:  9228000.0\n"
     ]
    }
   ],
   "source": [
    "# Run greedy power for CPU = 7, Mem = 11\n",
    "VMs = [[7, 11] for i in range(100)]\n",
    "setty = set(df['Time'].values)\n",
    "setty = sorted(setty)\n",
    "rejected = []\n",
    "nextQueue = []\n",
    "#print(len(setty))\n",
    "totalPower = 0\n",
    "totalCost = 0\n",
    "totalTurnaroundTime = 0\n",
    "\n",
    "# Run task queue based on optimization for power\n",
    "for i in setty:\n",
    "    taskQueue = df.loc[df['Time'] == i]\n",
    "    taskQueue = taskQueue.append(nextQueue)\n",
    "    #print(i)\n",
    "    final = False\n",
    "    if i == 112500:\n",
    "        final = True\n",
    "    returnObj = GreedyPower(taskQueue, nextQueue, 0.5, 'executionTime1', 5, 10, final)\n",
    "    rejected += returnObj[0]\n",
    "    nextQueue = returnObj[1]\n",
    "    totalPower = returnObj[2]\n",
    "    totalCost = returnObj[3]\n",
    "    totalTurnaroundTime = returnObj[4]\n",
    "\n",
    "# Save rejected values\n",
    "if len(rejected) > 0:\n",
    "    np.save(\"taskReject_2_1\", rejected)\n",
    "#np.save(\"VMs_1_i\", VMs)\n",
    "print(\"Total Power: \", totalPower)\n",
    "print(\"Total Cost: \", totalCost)\n",
    "print(\"Total Turnaround Time: \", totalTurnaroundTime)"
   ]
  },
  {
   "cell_type": "code",
   "execution_count": 69,
   "metadata": {},
   "outputs": [
    {
     "name": "stdout",
     "output_type": "stream",
     "text": [
      "[[5.0, 2.801295029606409e-06], [5.0, 1.0201999895812415e-06], [5.0, 6.998599993518722e-06], [2.7656250000000075, 1.3392531199999942], [2.765625000000008, 6.53478770000001], [2.7531250000000074, 5.264252968000009], [2.7687500000000065, 6.343391738000004], [2.7656250000000075, 6.561210094000007], [2.7625000000000073, 6.576865653999988], [2.7687500000000034, 6.8723085799999994], [2.765625000000005, 6.8515771159999845], [2.7656250000000075, 6.495114912000005], [2.768750000000006, 5.694814981999992], [2.7656250000000067, 6.694050617999999], [2.765625000000008, 6.472951508000002], [2.7687500000000043, 6.858776296000003], [2.7656250000000075, 6.558677630000007], [2.7625000000000046, 7.104241221999989], [2.765625000000007, 6.205024377999996], [2.7687500000000065, 5.504213732899977], [2.7687500000000065, 6.1309756700000095], [2.765625000000007, 6.576935825500005], [2.768750000000005, 6.892888604], [2.762500000000006, 6.958763695999997], [2.7656250000000058, 6.795202921999997], [2.7562500000000063, 6.748436814000003], [2.768750000000004, 7.123658768000006], [2.7656250000000036, 7.199572442000002], [2.7562500000000028, 7.034535308000009], [2.768750000000005, 7.261343236000012], [2.7656250000000075, 6.664003420000005], [2.765625000000007, 6.714620653000007], [3.6625000000000076, 3.2300600018658015e-05], [2.7656250000000075, 6.558290883000004], [2.7562500000000063, 6.695508730000003], [2.7593750000000044, 7.627701895000003], [2.768750000000003, 6.822426438000004], [2.7531250000000047, 6.628910015999995], [2.7687500000000034, 6.628021319000009], [2.743750000000004, 6.788491513999993], [2.7593750000000026, 6.589694415999994], [2.768750000000004, 6.648628546000019], [2.740625000000007, 6.839342464000002], [2.768750000000005, 6.996755757999994], [2.762500000000005, 7.020592257999995], [2.7625000000000046, 7.046700951999997], [2.7593750000000044, 5.287295069999994], [2.7562500000000023, 6.762956685999985], [2.7687500000000043, 6.676715847999999], [2.7687500000000043, 6.745354928000005], [2.768750000000002, 6.265028494000004], [2.7687500000000043, 6.909964500000006], [2.7687500000000025, 6.849005406000002], [2.7687500000000043, 6.428153573999996], [2.765625000000002, 7.240588881999988], [2.7625000000000046, 6.146820017999998], [2.7437500000000012, 7.111721531999992], [2.7437500000000044, 5.403903682000015], [2.7562500000000014, 6.055009762999983], [2.768750000000002, 5.815348176999995], [2.7593750000000044, 6.850678342000008], [2.756250000000002, 6.583664801000019], [2.768750000000005, 7.1325062959999865], [2.7687500000000025, 7.337082888999999], [2.762500000000004, 6.996862549999997], [2.7562500000000063, 6.334614598000004], [2.759375000000005, 6.710031642000006], [2.768750000000006, 7.045842705999995], [2.7656250000000044, 6.137176412599987], [2.768750000000006, 6.651878605999989], [2.7500000000000027, 7.351658560000005], [2.7687500000000016, 6.795688800999995], [2.7593750000000052, 6.348485297000015], [2.768750000000005, 5.287877764000009], [2.7625000000000046, 6.8332674369999955], [2.768750000000005, 6.848530555999997], [2.750000000000004, 6.984799819999993], [2.7687500000000016, 6.822199713999999], [2.7656250000000058, 6.3981025500000035], [2.768750000000003, 6.368770695999993], [2.7687500000000043, 6.817559144000007], [2.7687500000000043, 7.092156843199998], [2.7625000000000046, 6.754643781999993], [2.7687500000000025, 6.930768664000008], [2.768750000000004, 7.159518991999992], [2.768750000000004, 5.694619137999997], [2.768750000000006, 6.585148880000003], [2.765625000000006, 6.517871243999995], [2.759375000000004, 7.020651084000004], [2.759375000000005, 6.930286638000014], [2.756250000000003, 5.760374166999981], [2.7593750000000044, 7.375152378000001], [2.7562500000000028, 7.631765190999996], [2.7562500000000068, 6.5494376529999885], [2.7562500000000036, 6.891250872000002], [2.7656250000000053, 7.083379929999999], [2.7437500000000044, 6.994826603999992], [2.7656250000000053, 6.9943565800000025], [2.759375000000005, 7.04876574], [2.7531250000000034, 6.884443472000002]]\n",
      "Total Power:  403117.43749999994\n",
      "Total Cost:  313662.89999999787\n",
      "Total Turnaround Time:  9228000.0\n"
     ]
    }
   ],
   "source": [
    "# Run greedy cost for CPU = 7, Mem = 11\n",
    "VMs = [[7, 11] for i in range(100)]\n",
    "setty = set(df['Time'].values)\n",
    "setty = sorted(setty)\n",
    "rejected = []\n",
    "nextQueue = []\n",
    "totalPower = 0\n",
    "totalCost = 0\n",
    "totalTurnaroundTime = 0\n",
    "counter = 0\n",
    "\n",
    "for i in setty:\n",
    "    taskQueue = df.loc[df['Time'] == i]\n",
    "    taskQueue = taskQueue.append(nextQueue)\n",
    "    final = False\n",
    "    if i == 112500:\n",
    "        final = True\n",
    "    returnObj = GreedyCost(taskQueue, nextQueue, 0.5, 'executionTime1', 5, 10, final)\n",
    "    rejected += returnObj[0]\n",
    "    nextQueue = returnObj[1]\n",
    "    totalPower = returnObj[2]\n",
    "    totalCost = returnObj[3]\n",
    "    totalTurnaroundTime = returnObj[4]\n",
    "\n",
    "if len(rejected) > 0:\n",
    "    np.save(\"taskReject_2_2\", rejected)\n",
    "#np.save(\"VMs_1_ii\", VMs)\n",
    "print(\"Total Power: \", totalPower)\n",
    "print(\"Total Cost: \", totalCost)\n",
    "print(\"Total Turnaround Time: \", totalTurnaroundTime)"
   ]
  },
  {
   "cell_type": "code",
   "execution_count": 70,
   "metadata": {},
   "outputs": [
    {
     "name": "stdout",
     "output_type": "stream",
     "text": [
      "[[5.0, 2.801295029606409e-06], [5.0, 1.0201999895812415e-06], [5.0, 6.998599993518722e-06], [3.100000000000052, 5.054599988714405e-06], [1.7562500000000056, 1.55169999642088e-06], [3.206249999999998, 8.602700000109557e-06], [1.2781249999999995, 1.3180999716001069e-06], [0.0031249999999977563, 1.044169999859974e-05], [1.2616990785474513e-13, 1.8316000014320026e-05], [0.003124999999952348, 9.0680999992215e-05], [3.660873687527655e-14, 5.8542413679999905], [0.0031249999999479923, 8.672536419999993], [0.0031249999999996446, 9.33442469800001], [1.6374054889745082e-14, 9.18602754999999], [1.0656406312925526e-14, 9.33000007000001], [7.19303089313783e-15, 9.400869550000005], [0.003124999999996979, 9.492575689999995], [6.218983661376853e-16, 9.149561630000003], [1.2487406941819046e-14, 9.384226400000008], [7.059717394009013e-14, 1.9015207859999972], [1.7180701306074297e-14, 2.9400782480000003], [3.6637359812630166e-15, 5.589046468000005], [1.0816000872715392e-15, 6.6402285309999955], [0.003124999999944222, 8.869670800000009], [3.939557013943329e-15, 9.197350389999984], [2.558370182370595e-14, 9.262564580000012], [4.556251209653084e-15, 9.337860779999996], [2.5309615514501616e-14, 9.46003436], [0.003124999999996935, 9.390345300000003], [0.0031249999999833737, 9.430537499999996], [6.5824082295939945e-15, 3.6613748749999995], [4.4812500000000295, 4.208400000224152e-05], [4.406250000000032, 0.0003509579999964096], [4.050000000000053, 0.00015979000000317274], [3.6625000000000116, 0.00020214999999719068], [3.946874999999962, 0.0003289840000000505], [2.799999999999969, 0.000270950000001923], [1.6125000000000125, 0.00019076800000622854], [1.824929096727601e-14, 0.3709113200000004], [0.6812500000000069, 0.0004034800000036797], [1.728125000000004, 0.0002155230000015945], [1.6656250000000021, 0.0001680899999968585], [0.75, 0.0005467899999956222], [2.8718750000000024, 0.0002112900000014752], [2.0749999999999886, 0.00019100000000418262], [1.4093750000000063, 0.0001942999999964088], [0.6218750000000121, 0.00040684199999470154], [1.790234627208065e-15, 1.3784973999999994], [0.0156250000000007, 9.800000000307132e-05], [0.0031249999999991215, 1.0138270000000027], [8.144526719711109e-16, 2.112354599999997], [0.6781249999999986, 0.11921762400000614], [5, 10], [5, 10], [5, 10], [5, 10], [5, 10], [5, 10], [5, 10], [5, 10], [5, 10], [5, 10], [5, 10], [5, 10], [5, 10], [5, 10], [5, 10], [5, 10], [5, 10], [5, 10], [5, 10], [5, 10], [5, 10], [5, 10], [5, 10], [5, 10], [5, 10], [5, 10], [5, 10], [5, 10], [5, 10], [5, 10], [5, 10], [5, 10], [5, 10], [5, 10], [5, 10], [5, 10], [5, 10], [5, 10], [5, 10], [5, 10], [5, 10], [5, 10], [5, 10], [5, 10], [5, 10], [5, 10], [5, 10], [5, 10]]\n",
      "Total Power:  1016287.3639844086\n",
      "Total Cost:  813029.8911874931\n",
      "Total Turnaround Time:  8982000.0\n"
     ]
    }
   ],
   "source": [
    "# Run greedy turnaround time for CPU = 7, Mem = 11\n",
    "VMs = [[7, 11] for i in range(100)]\n",
    "setty = set(df['Time'].values)\n",
    "setty = sorted(setty)\n",
    "rejected = []\n",
    "nextQueue = []\n",
    "totalPower = 0\n",
    "totalCost = 0\n",
    "totalTurnaroundTime = 0\n",
    "\n",
    "for i in setty:\n",
    "    taskQueue = df.loc[df['Time'] == i]\n",
    "    taskQueue = taskQueue.append(nextQueue)\n",
    "    final = False\n",
    "    if i == 112500:\n",
    "        final = True\n",
    "    returnObj = GreedyTurnaroundTime(taskQueue, nextQueue, 0.5, 'executionTime1', 5, 10, final)\n",
    "    rejected += returnObj[0]\n",
    "    nextQueue = returnObj[1]\n",
    "    totalPower = returnObj[2]\n",
    "    totalCost = returnObj[3]\n",
    "    totalTurnaroundTime = returnObj[4]\n",
    "\n",
    "if len(rejected) > 0:\n",
    "    np.save(\"taskReject_2_3\", rejected)\n",
    "#np.save(\"VMs_1_iii\", VMs)\n",
    "print(\"Total Power: \", totalPower)\n",
    "print(\"Total Cost: \", totalCost)\n",
    "print(\"Total Turnaround Time: \", totalTurnaroundTime)"
   ]
  },
  {
   "cell_type": "code",
   "execution_count": 71,
   "metadata": {},
   "outputs": [
    {
     "name": "stdout",
     "output_type": "stream",
     "text": [
      "863259\n"
     ]
    }
   ],
   "source": [
    "print(len(rejected))"
   ]
  },
  {
   "cell_type": "code",
   "execution_count": null,
   "metadata": {},
   "outputs": [],
   "source": [
    "# RESULTS DISCUSSION\n",
    "# For setting 1, the amount of power consumed is less when we use the algorithm that optimizes for power and the\n",
    "# cost is incurred is less when we use the algorithm that optimizes for cost. The turnaround time is the same for all\n",
    "# three algorithms because execution time is independent of cost and power. The same patterns apply to setting 2.\n",
    "\n",
    "\n",
    "# Why optimizing cost and energy? What's the difference? \n",
    "\n",
    "# Optimizing for cost and energy is similar in the sense that cost in part depends on energy. However, cost also\n",
    "# depends on time of day. So optimizing for energy purely depends on the VMs available, while optimizing for cost \n",
    "# depends on more parameters.\n",
    "\n",
    "\n",
    "# When does it make a difference to optimize energy and cost? Provide a discussion.\n",
    "\n",
    "# If the energy consumption is relatively stable over time, but there are high differences in price at certain times,\n",
    "# then it makes a difference. This is because optimizing for cost would result in different results during times\n",
    "# when the cost is higher than if just power was optimized for. In a real engineering scenario, it makes sense to \n",
    "# optimize depending on the greatest constraint."
   ]
  }
 ],
 "metadata": {
  "colab": {
   "authorship_tag": "ABX9TyO61M8r4cIMYad+2ZM/GWud",
   "collapsed_sections": [],
   "name": "RR_lab3.ipynb",
   "provenance": []
  },
  "kernelspec": {
   "display_name": "Python 3",
   "language": "python",
   "name": "python3"
  },
  "language_info": {
   "codemirror_mode": {
    "name": "ipython",
    "version": 3
   },
   "file_extension": ".py",
   "mimetype": "text/x-python",
   "name": "python",
   "nbconvert_exporter": "python",
   "pygments_lexer": "ipython3",
   "version": "3.8.5"
  }
 },
 "nbformat": 4,
 "nbformat_minor": 1
}
