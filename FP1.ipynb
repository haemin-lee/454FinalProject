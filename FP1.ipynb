{
 "cells": [
  {
   "cell_type": "markdown",
   "metadata": {},
   "source": [
    "# Summary of Results and Algorithm:\n"
   ]
  },
  {
   "cell_type": "markdown",
   "metadata": {
    "id": "MD4prbKafL7C"
   },
   "source": [
    "## Read input"
   ]
  },
  {
   "cell_type": "code",
   "execution_count": 2,
   "metadata": {
    "executionInfo": {
     "elapsed": 3600,
     "status": "ok",
     "timestamp": 1631894877782,
     "user": {
      "displayName": "Mingxi Cheng",
      "photoUrl": "https://lh3.googleusercontent.com/a/default-user=s64",
      "userId": "11732313048760842335"
     },
     "user_tz": 420
    },
    "id": "DSMHGWqKRqQ-"
   },
   "outputs": [],
   "source": [
    "# Imports\n",
    "import pandas as pd\n",
    "import numpy as np\n",
    "# Read data into dataframe\n",
    "df = pd.read_csv('./google-cluster-data-1.csv',sep=' ')"
   ]
  },
  {
   "cell_type": "code",
   "execution_count": 3,
   "metadata": {
    "colab": {
     "base_uri": "https://localhost:8080/",
     "height": 419
    },
    "executionInfo": {
     "elapsed": 272,
     "status": "ok",
     "timestamp": 1631894925218,
     "user": {
      "displayName": "Mingxi Cheng",
      "photoUrl": "https://lh3.googleusercontent.com/a/default-user=s64",
      "userId": "11732313048760842335"
     },
     "user_tz": 420
    },
    "id": "oNW697KISI7P",
    "outputId": "65aee2ee-d06b-416e-c42b-639907acffed"
   },
   "outputs": [
    {
     "name": "stdout",
     "output_type": "stream",
     "text": [
      "length of df:  3535029\n"
     ]
    }
   ],
   "source": [
    "# Print the length of the df\n",
    "print(\"length of df: \", len(df))"
   ]
  },
  {
   "cell_type": "markdown",
   "metadata": {
    "id": "u8NxBrTVfN4H"
   },
   "source": [
    "Get CPU and MEM information"
   ]
  },
  {
   "cell_type": "code",
   "execution_count": 4,
   "metadata": {
    "colab": {
     "base_uri": "https://localhost:8080/"
    },
    "executionInfo": {
     "elapsed": 131,
     "status": "ok",
     "timestamp": 1631895007749,
     "user": {
      "displayName": "Mingxi Cheng",
      "photoUrl": "https://lh3.googleusercontent.com/a/default-user=s64",
      "userId": "11732313048760842335"
     },
     "user_tz": 420
    },
    "id": "R1K0nIhLSK3w",
    "outputId": "741b0f53-f684-4b86-b2b1-720683fb96db"
   },
   "outputs": [
    {
     "data": {
      "text/plain": [
       "array([0.      , 0.      , 0.021875, ..., 0.      , 0.      , 0.      ])"
      ]
     },
     "execution_count": 4,
     "metadata": {},
     "output_type": "execute_result"
    }
   ],
   "source": [
    "# Show amount of CPU for each task\n",
    "df['NrmlTaskCores'].values"
   ]
  },
  {
   "cell_type": "code",
   "execution_count": 5,
   "metadata": {
    "id": "2LtzET0dSkAg"
   },
   "outputs": [],
   "source": [
    "# Save CPU amount, memory requirements, and task IDs\n",
    "cpus = df['NrmlTaskCores'].values\n",
    "mems = df['NrmlTaskMem'].values\n",
    "task_ids = df['TaskID'].values"
   ]
  },
  {
   "cell_type": "code",
   "execution_count": 6,
   "metadata": {},
   "outputs": [],
   "source": [
    "# Calculate and save execution times for two cases: mod 2 and mod 10\n",
    "temp1 = df['TaskID'].values\n",
    "ExecutionTime1 = []\n",
    "for i in temp1:\n",
    "    burstTime = (i%2+1)*300\n",
    "    ExecutionTime1.append(burstTime)\n",
    "    \n",
    "temp2 = df['TaskID'].values\n",
    "ExecutionTime2 = []\n",
    "for i in temp2:\n",
    "    burstTime = (i%10+1)*300\n",
    "    ExecutionTime2.append(burstTime)"
   ]
  },
  {
   "cell_type": "code",
   "execution_count": 7,
   "metadata": {},
   "outputs": [
    {
     "name": "stdout",
     "output_type": "stream",
     "text": [
      "Total Subtasks for setting 1: 5298274\n",
      "Total Subtasks for setting 2: 19472018\n"
     ]
    }
   ],
   "source": [
    "# Calculate and print total # of subtasks for two cases: mod 2 and mod 10\n",
    "totalSubtask1 = 0\n",
    "for i in ExecutionTime1:\n",
    "    totalSubtask1 += i/300\n",
    "print(\"Total Subtasks for setting 1:\", int(totalSubtask1))\n",
    "\n",
    "totalSubtask2 = 0\n",
    "for i in ExecutionTime2:\n",
    "    totalSubtask2 += i/300\n",
    "    \n",
    "print(\"Total Subtasks for setting 2:\", int(totalSubtask2))"
   ]
  },
  {
   "cell_type": "code",
   "execution_count": 8,
   "metadata": {},
   "outputs": [
    {
     "data": {
      "text/html": [
       "<div>\n",
       "<style scoped>\n",
       "    .dataframe tbody tr th:only-of-type {\n",
       "        vertical-align: middle;\n",
       "    }\n",
       "\n",
       "    .dataframe tbody tr th {\n",
       "        vertical-align: top;\n",
       "    }\n",
       "\n",
       "    .dataframe thead th {\n",
       "        text-align: right;\n",
       "    }\n",
       "</style>\n",
       "<table border=\"1\" class=\"dataframe\">\n",
       "  <thead>\n",
       "    <tr style=\"text-align: right;\">\n",
       "      <th></th>\n",
       "      <th>Time</th>\n",
       "      <th>ParentID</th>\n",
       "      <th>TaskID</th>\n",
       "      <th>JobType</th>\n",
       "      <th>NrmlTaskCores</th>\n",
       "      <th>NrmlTaskMem</th>\n",
       "      <th>Unnamed: 6</th>\n",
       "    </tr>\n",
       "  </thead>\n",
       "  <tbody>\n",
       "    <tr>\n",
       "      <th>0</th>\n",
       "      <td>90000</td>\n",
       "      <td>757745334</td>\n",
       "      <td>1488529826</td>\n",
       "      <td>0</td>\n",
       "      <td>0.000000</td>\n",
       "      <td>0.031130</td>\n",
       "      <td>NaN</td>\n",
       "    </tr>\n",
       "    <tr>\n",
       "      <th>1</th>\n",
       "      <td>90000</td>\n",
       "      <td>975992247</td>\n",
       "      <td>1488529821</td>\n",
       "      <td>0</td>\n",
       "      <td>0.000000</td>\n",
       "      <td>0.000000</td>\n",
       "      <td>NaN</td>\n",
       "    </tr>\n",
       "    <tr>\n",
       "      <th>2</th>\n",
       "      <td>90000</td>\n",
       "      <td>1468458091</td>\n",
       "      <td>1488529832</td>\n",
       "      <td>1</td>\n",
       "      <td>0.021875</td>\n",
       "      <td>0.002353</td>\n",
       "      <td>NaN</td>\n",
       "    </tr>\n",
       "    <tr>\n",
       "      <th>3</th>\n",
       "      <td>90000</td>\n",
       "      <td>1460281235</td>\n",
       "      <td>1488529840</td>\n",
       "      <td>0</td>\n",
       "      <td>0.000000</td>\n",
       "      <td>0.000000</td>\n",
       "      <td>NaN</td>\n",
       "    </tr>\n",
       "    <tr>\n",
       "      <th>4</th>\n",
       "      <td>90000</td>\n",
       "      <td>1164728954</td>\n",
       "      <td>1488529835</td>\n",
       "      <td>0</td>\n",
       "      <td>0.003125</td>\n",
       "      <td>0.001638</td>\n",
       "      <td>NaN</td>\n",
       "    </tr>\n",
       "  </tbody>\n",
       "</table>\n",
       "</div>"
      ],
      "text/plain": [
       "    Time    ParentID      TaskID  JobType  NrmlTaskCores  NrmlTaskMem  \\\n",
       "0  90000   757745334  1488529826        0       0.000000     0.031130   \n",
       "1  90000   975992247  1488529821        0       0.000000     0.000000   \n",
       "2  90000  1468458091  1488529832        1       0.021875     0.002353   \n",
       "3  90000  1460281235  1488529840        0       0.000000     0.000000   \n",
       "4  90000  1164728954  1488529835        0       0.003125     0.001638   \n",
       "\n",
       "   Unnamed: 6  \n",
       "0         NaN  \n",
       "1         NaN  \n",
       "2         NaN  \n",
       "3         NaN  \n",
       "4         NaN  "
      ]
     },
     "execution_count": 8,
     "metadata": {},
     "output_type": "execute_result"
    }
   ],
   "source": [
    "# Show dataframe\n",
    "df.head()"
   ]
  },
  {
   "cell_type": "code",
   "execution_count": 9,
   "metadata": {},
   "outputs": [],
   "source": [
    "# Save calculated execution times to columns in the dataframe\n",
    "df['executionTime1'] = ExecutionTime1\n",
    "df['executionTime2'] = ExecutionTime2"
   ]
  },
  {
   "cell_type": "markdown",
   "metadata": {},
   "source": [
    "### Setting 1"
   ]
  },
  {
   "cell_type": "code",
   "execution_count": 13,
   "metadata": {},
   "outputs": [],
   "source": [
    "# Calculates energy consumption for one vm\n",
    "def getEnergyConsumption(VMCPUUsage, totalCPUCount, threshold):\n",
    "    \n",
    "    #here we want to calculate the cpu usage rate per individual VM so i look at the individual\n",
    "    #cpu usage rate and divide it over 7/100 or 25/100\n",
    "    cpuUsageRate = VMCPUUsage/(totalCPUCount/100.0)\n",
    "    \n",
    "    static = 0\n",
    "    if cpuUsageRate > 0:\n",
    "        static = 5 \n",
    "    else:\n",
    "        static = 0\n",
    "        \n",
    "    dynamic = 0\n",
    "    if cpuUsageRate < threshold:\n",
    "        dynamic = cpuUsageRate*100\n",
    "    else:\n",
    "        dynamic = threshold * 100 + (((cpuUsageRate - threshold)**2) * 200)\n",
    "    #print(dynamic, static)\n",
    "    return static + dynamic"
   ]
  },
  {
   "cell_type": "code",
   "execution_count": 14,
   "metadata": {},
   "outputs": [],
   "source": [
    "# Calculates cost for one vm\n",
    "def getCost(time, power):\n",
    "    costChart = [0.5, 0.5, 0.6, 0.6, 0.6, 0.7, 0.7, 0.6, 0.6, 0.8, 0.8, 0.8, 0.8]\n",
    "    mapping = [90000,91875,93750,95625,97500,99375,101250,103125,105000,106875,108750,110625]\n",
    "    cost = 0\n",
    "    for i in range(12):\n",
    "        if time == mapping[i]:\n",
    "            cost = costChart[i]\n",
    "            break\n",
    "        elif time < mapping[i]:\n",
    "            cost = costChart[i-1]\n",
    "    return cost*power\n",
    "    "
   ]
  },
  {
   "cell_type": "code",
   "execution_count": 21,
   "metadata": {
    "id": "DYaYmjB5TSYp"
   },
   "outputs": [],
   "source": [
    "# Schedule all tasks in a way that minimizes the power consumption\n",
    "def GreedyPower(input_data, nextQueue, threshhold, executionTime,cpuTotal, memTotal):\n",
    "    length = len(input_data)\n",
    "    nextQueue = []\n",
    "    VMs = [[cpuTotal, memTotal] for i in range(100)]\n",
    "    energyUsage = 0\n",
    "    \n",
    "    for index, row in input.iterrows():\n",
    "        cpu, mem = row['NrmlTaskCores'], row['NrmlTaskMem']\n",
    "        task_id = row['TaskID']\n",
    "        found_VM = False\n",
    "        lowestPower = float('inf')\n",
    "        lowestPowerIndex = -1\n",
    "        VM_id = 0\n",
    "        \n",
    "        #iterate through all of the vms\n",
    "        for j in range(100):\n",
    "            #check whether this is even schedulable\n",
    "            if VMs[VM_id][0] >= cpu and VMs[VM_id][1] >= mem:\n",
    "                energy = getEnergyConsumption(VMs[VM_id][0], cpuTotal, threshhold)\n",
    "                if energy < lowestPower:\n",
    "                    lowestPower = energy\n",
    "                    lowestPowerIndex = VM_id\n",
    "                    \n",
    "        #is schedulable thank the lord\n",
    "        if lowestPowerIndex != -1:\n",
    "            cpu = VMs[lowestPowerIndex][0]\n",
    "            mem = VMs[lowestPowerIndex][1]\n",
    "            \n",
    "            VMs[lowestPowerIndex][0] = VMs[lowestPowerIndex][0] - cpu\n",
    "            VMs[lowestPowerIndex][1] = VMs[lowestPowerIndex][1] - mem\n",
    "        else:\n",
    "            rejected.append(row['TaskID'])\n",
    "                \n",
    "        if row[executionTime] > 300:\n",
    "            row[executionTime] -= 300\n",
    "            nextQueue.append(row)\n",
    "            \n",
    "    return rejected, nextQueue"
   ]
  },
  {
   "cell_type": "code",
   "execution_count": null,
   "metadata": {},
   "outputs": [],
   "source": [
    "def GreedyCost(input_data, nextQueue, threshhold, executionTime,cpuTotal, memTotal):\n",
    "    length = len(input_data)\n",
    "    nextQueue = []\n",
    "    VMs = [[cpuTotal, memTotal] for i in range(100)]\n",
    "    cost = 0\n",
    "    \n",
    "    for index, row in input.iterrows():\n",
    "        cpu, mem = row['NrmlTaskCores'], row['NrmlTaskMem']\n",
    "        task_id = row['TaskID']\n",
    "        found_VM = False\n",
    "        lowestCost = float('inf')\n",
    "        lowestCostIndex = -1\n",
    "        VM_id = 0\n",
    "        \n",
    "        #iterate through all of the vms\n",
    "        for j in range(100):\n",
    "            #check whether this is even schedulable\n",
    "            if VMs[VM_id][0] >= cpu and VMs[VM_id][1] >= mem:\n",
    "                energy = getEnergyConsumption(VMs[VM_id][0], cpuTotal, threshhold)\n",
    "                cost = getCost(row['Time'], energy) # time, power arguments go here: FILL IN \n",
    "                if cost < lowestCost:\n",
    "                    lowestCost = cost\n",
    "                    lowestCostIndex = VM_id\n",
    "                    \n",
    "        #is schedulable thank the lord\n",
    "        if lowestCostIndex != -1:\n",
    "            cpu = VMs[lowestCostIndex][0]\n",
    "            mem = VMs[lowestCostIndex][1]\n",
    "            \n",
    "            VMs[lowestCostIndex][0] = VMs[lowestCostIndex][0] - cpu\n",
    "            VMs[lowestCostIndex][1] = VMs[lowestCostIndex][1] - mem\n",
    "        else:\n",
    "            rejected.append(row['TaskID'])\n",
    "                \n",
    "        if row[executionTime] > 300:\n",
    "            row[executionTime] -= 300\n",
    "            nextQueue.append(row)\n",
    "            \n",
    "    return rejected, nextQueue"
   ]
  },
  {
   "cell_type": "code",
   "execution_count": null,
   "metadata": {},
   "outputs": [
    {
     "name": "stdout",
     "output_type": "stream",
     "text": [
      "76\n",
      "90000\n",
      "90300\n",
      "90600\n",
      "90900\n",
      "91200\n",
      "91500\n",
      "91800\n",
      "92100\n",
      "92400\n",
      "92700\n",
      "93000\n",
      "93300\n"
     ]
    }
   ],
   "source": [
    "# Run greedy power for CPU = 7, Mem = 11\n",
    "VMs = [[7, 11] for i in range(100)]\n",
    "setty = set(df['Time'].values)\n",
    "setty = sorted(setty)\n",
    "rejected = []\n",
    "nextQueue = []\n",
    "print(len(setty))\n",
    "for i in setty:\n",
    "    taskQueue = df.loc[df['Time'] == i]\n",
    "    taskQueue = taskQueue.append(nextQueue)\n",
    "    print(i)\n",
    "    returnObj = GreedyPower(taskQueue, nextQueue, 0.5, 'executionTime1', 7, 11)\n",
    "    rejected += returnObj[0]\n",
    "    nextQueue = returnObj[1]\n",
    "    \n",
    "print(\"rejected tasks\", rejected)\n",
    "if len(rejected) > 0:\n",
    "    np.save(\"taskReject_1_i\", rejected)\n",
    "np.save(\"VMs_1_i\", VMs)"
   ]
  },
  {
   "cell_type": "code",
   "execution_count": null,
   "metadata": {},
   "outputs": [],
   "source": [
    "# Run greedy cost for CPU = 7, Mem = 11\n",
    "VMs = [[7, 11] for i in range(100)]\n",
    "setty = set(df['Time'].values)\n",
    "setty = sorted(setty)\n",
    "rejected = []\n",
    "nextQueue = []\n",
    "print(len(setty))\n",
    "for i in setty:\n",
    "    taskQueue = df.loc[df['Time'] == i]\n",
    "    taskQueue = taskQueue.append(nextQueue)\n",
    "    print(i)\n",
    "    returnObj = GreedyCost(taskQueue, nextQueue, 0.5, 'executionTime1', 7, 11)\n",
    "    rejected += returnObj[0]\n",
    "    nextQueue = returnObj[1]\n",
    "    \n",
    "print(\"rejected tasks\", rejected)\n",
    "if len(rejected) > 0:\n",
    "    np.save(\"taskReject_1_ii\", rejected)\n",
    "np.save(\"VMs_1_ii\", VMs)"
   ]
  },
  {
   "cell_type": "markdown",
   "metadata": {},
   "source": [
    "### Setting 2"
   ]
  },
  {
   "cell_type": "code",
   "execution_count": 189,
   "metadata": {},
   "outputs": [],
   "source": [
    "# Run greedy power for CPU = 25 and Mem = 40\n",
    "VMs = [[25, 40] for i in range(100)]\n",
    "setty = set(df['Time'].values)\n",
    "setty = sorted(setty)\n",
    "rejected = []\n",
    "nextQueue = []\n",
    "for i in setty:\n",
    "    taskQueue = df.loc[df['Time'] == i]\n",
    "    taskQueue = taskQueue.append(nextQueue)\n",
    "   \n",
    "    returnObj = GreedyPower(taskQueue, nextQueue, 0.9, 'executionTime2', 25, 40)\n",
    "    rejected += returnObj[0]\n",
    "    nextQueue = returnObj[1]\n",
    "\n",
    "if len(rejected) > 0:\n",
    "    np.save(\"taskReject_2_i\", rejected)\n",
    "np.save(\"VMs_2_i\", VMs)"
   ]
  },
  {
   "cell_type": "code",
   "execution_count": 191,
   "metadata": {},
   "outputs": [
    {
     "name": "stdout",
     "output_type": "stream",
     "text": [
      "Energy Used: 6614.281146138474\n",
      "Cost Incurred: 4736.899788792278\n"
     ]
    }
   ],
   "source": [
    "print(\"Energy Used:\", energyUsage2)\n",
    "print(\"Cost Incurred:\", totalCost2)"
   ]
  },
  {
   "cell_type": "code",
   "execution_count": 192,
   "metadata": {},
   "outputs": [],
   "source": [
    "# Run greedy cost for CPU = 25 and Mem = 40\n",
    "VMs = [[25, 40] for i in range(100)]\n",
    "setty = set(df['Time'].values)\n",
    "setty = sorted(setty)\n",
    "rejected = []\n",
    "nextQueue = []\n",
    "for i in setty:\n",
    "    taskQueue = df.loc[df['Time'] == i]\n",
    "    taskQueue = taskQueue.append(nextQueue)\n",
    "   \n",
    "    returnObj = GreedyCost(taskQueue, nextQueue, 0.9, 'executionTime2', 25, 40)\n",
    "    rejected += returnObj[0]\n",
    "    nextQueue = returnObj[1]\n",
    "\n",
    "if len(rejected) > 0:\n",
    "    np.save(\"taskReject_2_ii\", rejected)\n",
    "np.save(\"VMs_2_ii\", VMs)"
   ]
  },
  {
   "cell_type": "code",
   "execution_count": null,
   "metadata": {},
   "outputs": [],
   "source": []
  }
 ],
 "metadata": {
  "colab": {
   "authorship_tag": "ABX9TyO61M8r4cIMYad+2ZM/GWud",
   "collapsed_sections": [],
   "name": "RR_lab3.ipynb",
   "provenance": []
  },
  "kernelspec": {
   "display_name": "Python 3",
   "language": "python",
   "name": "python3"
  },
  "language_info": {
   "codemirror_mode": {
    "name": "ipython",
    "version": 3
   },
   "file_extension": ".py",
   "mimetype": "text/x-python",
   "name": "python",
   "nbconvert_exporter": "python",
   "pygments_lexer": "ipython3",
   "version": "3.9.2"
  }
 },
 "nbformat": 4,
 "nbformat_minor": 1
}
